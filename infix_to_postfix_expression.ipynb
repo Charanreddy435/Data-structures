{
  "nbformat": 4,
  "nbformat_minor": 0,
  "metadata": {
    "colab": {
      "provenance": [],
      "authorship_tag": "ABX9TyMdkV9/mPTMS1+nw2opGG7x",
      "include_colab_link": true
    },
    "kernelspec": {
      "name": "python3",
      "display_name": "Python 3"
    },
    "language_info": {
      "name": "python"
    }
  },
  "cells": [
    {
      "cell_type": "markdown",
      "metadata": {
        "id": "view-in-github",
        "colab_type": "text"
      },
      "source": [
        "<a href=\"https://colab.research.google.com/github/Charanreddy435/Data-structures/blob/main/infix_to_postfix_expression.ipynb\" target=\"_parent\"><img src=\"https://colab.research.google.com/assets/colab-badge.svg\" alt=\"Open In Colab\"/></a>"
      ]
    },
    {
      "cell_type": "code",
      "execution_count": 1,
      "metadata": {
        "colab": {
          "base_uri": "https://localhost:8080/"
        },
        "id": "Rq7kGQ1H01_j",
        "outputId": "be2d5224-a3c3-4883-9cb8-50dd9e7c4950"
      },
      "outputs": [
        {
          "output_type": "stream",
          "name": "stdout",
          "text": [
            "Enter infix expression (A - B) * (D/E)\n",
            "infix notation:  (A - B) * (D/E)\n",
            "postfix notation:  A  B-  DE/*\n"
          ]
        }
      ],
      "source": [
        "def infixToPostfix(expression): \n",
        "    stack = []\n",
        "    output = '' \n",
        "    Operators = set(['+', '-', '*', '/', '(', ')', '^'])\n",
        "    Priority = {'+':1, '-':1, '*':2, '/':2, '^':3} \n",
        "    for character in expression:\n",
        "        if character not in Operators: \n",
        "            output+= character\n",
        "        elif character=='(':  \n",
        "            stack.append('(')\n",
        "        elif character==')':\n",
        "            while stack and stack[-1]!= '(':\n",
        "                output+=stack.pop()\n",
        "            stack.pop()\n",
        "        else: \n",
        "            while stack and stack[-1]!='(' and Priority[character]<=Priority[stack[-1]]:\n",
        "                output+=stack.pop()\n",
        "            stack.append(character)\n",
        "    while stack:\n",
        "        output+=stack.pop()\n",
        "    return output\n",
        "expression = input('Enter infix expression ')\n",
        "print('infix notation: ',expression)\n",
        "print('postfix notation: ',infixToPostfix(expression))"
      ]
    }
  ]
}