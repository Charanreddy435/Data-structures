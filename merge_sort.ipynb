{
  "nbformat": 4,
  "nbformat_minor": 0,
  "metadata": {
    "colab": {
      "provenance": [],
      "authorship_tag": "ABX9TyNM1vE1pilZeq9zKs2lqo5l",
      "include_colab_link": true
    },
    "kernelspec": {
      "name": "python3",
      "display_name": "Python 3"
    },
    "language_info": {
      "name": "python"
    }
  },
  "cells": [
    {
      "cell_type": "markdown",
      "metadata": {
        "id": "view-in-github",
        "colab_type": "text"
      },
      "source": [
        "<a href=\"https://colab.research.google.com/github/Charanreddy435/Data-structures/blob/main/merge_sort.ipynb\" target=\"_parent\"><img src=\"https://colab.research.google.com/assets/colab-badge.svg\" alt=\"Open In Colab\"/></a>"
      ]
    },
    {
      "cell_type": "code",
      "execution_count": 1,
      "metadata": {
        "colab": {
          "base_uri": "https://localhost:8080/"
        },
        "id": "sYtiqLdnxmjs",
        "outputId": "f3fced27-b411-477a-f555-d15e43057f22"
      },
      "outputs": [
        {
          "output_type": "stream",
          "name": "stdout",
          "text": [
            "65 42 37 21 57\n",
            "sorted elements are: \n",
            "[21, 37, 42, 57, 65]\n"
          ]
        }
      ],
      "source": [
        "def merge_sort(collection):\n",
        "   length = len(collection)\n",
        "   if length > 1:\n",
        "        midpoint = length // 2\n",
        "        left_half = merge_sort(collection[:midpoint])\n",
        "        right_half = merge_sort(collection[midpoint:])\n",
        "        i = 0\n",
        "        j = 0\n",
        "        k = 0\n",
        "        left_length = len(left_half)\n",
        "        right_length = len(right_half)\n",
        "        while i < left_length and j < right_length:\n",
        "            if left_half[i] < right_half[j]:\n",
        "                collection[k] = left_half[i]\n",
        "                i += 1\n",
        "            else:\n",
        "                collection[k] = right_half[j]\n",
        "                j += 1\n",
        "            k += 1\n",
        "\n",
        "        while i < left_length:\n",
        "            collection[k] = left_half[i]\n",
        "            i += 1\n",
        "            k += 1\n",
        "\n",
        "        while j < right_length:\n",
        "            collection[k] = right_half[j]\n",
        "            j += 1\n",
        "            k += 1\n",
        "\n",
        "   return collection\n",
        "str_input= input()\n",
        "list = [int(x) for x in str_input.split()]\n",
        "merge_sort(list)\n",
        "print('sorted elements are: ')\n",
        "print(list)"
      ]
    }
  ]
}