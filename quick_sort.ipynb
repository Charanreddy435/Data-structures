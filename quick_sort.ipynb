{
  "nbformat": 4,
  "nbformat_minor": 0,
  "metadata": {
    "colab": {
      "provenance": [],
      "authorship_tag": "ABX9TyPpGrRwnsPaNv1VgXwVAFN8",
      "include_colab_link": true
    },
    "kernelspec": {
      "name": "python3",
      "display_name": "Python 3"
    },
    "language_info": {
      "name": "python"
    }
  },
  "cells": [
    {
      "cell_type": "markdown",
      "metadata": {
        "id": "view-in-github",
        "colab_type": "text"
      },
      "source": [
        "<a href=\"https://colab.research.google.com/github/Charanreddy435/Data-structures/blob/main/quick_sort.ipynb\" target=\"_parent\"><img src=\"https://colab.research.google.com/assets/colab-badge.svg\" alt=\"Open In Colab\"/></a>"
      ]
    },
    {
      "cell_type": "code",
      "execution_count": 2,
      "metadata": {
        "colab": {
          "base_uri": "https://localhost:8080/"
        },
        "id": "7NBhKiLWxA9r",
        "outputId": "dd9623fd-4ab5-44f1-8b53-f86683064aea"
      },
      "outputs": [
        {
          "output_type": "stream",
          "name": "stdout",
          "text": [
            "8 2 5 12 45\n",
            "[2, 5, 8, 12, 45]\n"
          ]
        }
      ],
      "source": [
        "def partition(arr,low,high):\n",
        "   i = ( low-1 )\n",
        "   pivot = arr[high] \n",
        "   for j in range(low , high):\n",
        "       if arr[j] <= pivot:\n",
        "         i = i+1\n",
        "         arr[i],arr[j] = arr[j],arr[i]\n",
        "   arr[i+1],arr[high] = arr[high],arr[i+1]\n",
        "   return ( i+1 )\n",
        "def quickSort(arr,low,high):\n",
        "   if low < high:\n",
        "      pi = partition(arr,low,high)\n",
        "      quickSort(arr, low, pi-1)\n",
        "      quickSort(arr, pi+1, high)\n",
        "str_input= input( )\n",
        "myList = [int(x) for x in str_input.split()]\n",
        "quickSort(myList,0,len(myList)-1)\n",
        "print(myList)"
      ]
    }
  ]
}