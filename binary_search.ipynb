{
  "nbformat": 4,
  "nbformat_minor": 0,
  "metadata": {
    "colab": {
      "provenance": [],
      "authorship_tag": "ABX9TyOnRHI/9wbM0df1t2Qc3zE/",
      "include_colab_link": true
    },
    "kernelspec": {
      "name": "python3",
      "display_name": "Python 3"
    },
    "language_info": {
      "name": "python"
    }
  },
  "cells": [
    {
      "cell_type": "markdown",
      "metadata": {
        "id": "view-in-github",
        "colab_type": "text"
      },
      "source": [
        "<a href=\"https://colab.research.google.com/github/Charanreddy435/Data-structures/blob/main/binary_search.ipynb\" target=\"_parent\"><img src=\"https://colab.research.google.com/assets/colab-badge.svg\" alt=\"Open In Colab\"/></a>"
      ]
    },
    {
      "cell_type": "code",
      "execution_count": 1,
      "metadata": {
        "colab": {
          "base_uri": "https://localhost:8080/"
        },
        "id": "9_GAZ-eI1GQF",
        "outputId": "f87e58e9-0bc8-4343-9f79-303de753fcf4"
      },
      "outputs": [
        {
          "output_type": "stream",
          "name": "stdout",
          "text": [
            "13 24 35 34 12\n",
            "35\n",
            "element found at index 2\n"
          ]
        }
      ],
      "source": [
        "def binary_search(list1, pivot):  \n",
        "    low = 0  \n",
        "    high = len(list1) - 1  \n",
        "    while low <= high:  \n",
        "      mid = (high + low) // 2  \n",
        "      if list1[mid] < pivot:  \n",
        "        low = mid + 1  \n",
        "      elif list1[mid] > pivot:  \n",
        "        high = mid - 1  \n",
        "      else:  \n",
        "        return mid    \n",
        "    return -1   \n",
        "str_input= input( )\n",
        "list1 = [int(x) for x in str_input.split()]\n",
        "pivot = int(input())\n",
        "res = binary_search(list1,pivot)\n",
        "if(res!=-1):\n",
        "    print(\"element found at index\",str(res))\n",
        "else:\n",
        "  print(\"element not found\")\n"
      ]
    }
  ]
}