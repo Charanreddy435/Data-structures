{
  "nbformat": 4,
  "nbformat_minor": 0,
  "metadata": {
    "colab": {
      "provenance": [],
      "authorship_tag": "ABX9TyN7dt3oEsHzojxiJX9vHozt",
      "include_colab_link": true
    },
    "kernelspec": {
      "name": "python3",
      "display_name": "Python 3"
    },
    "language_info": {
      "name": "python"
    }
  },
  "cells": [
    {
      "cell_type": "markdown",
      "metadata": {
        "id": "view-in-github",
        "colab_type": "text"
      },
      "source": [
        "<a href=\"https://colab.research.google.com/github/Charanreddy435/Data-structures/blob/main/linear_search.ipynb\" target=\"_parent\"><img src=\"https://colab.research.google.com/assets/colab-badge.svg\" alt=\"Open In Colab\"/></a>"
      ]
    },
    {
      "cell_type": "code",
      "execution_count": 1,
      "metadata": {
        "colab": {
          "base_uri": "https://localhost:8080/"
        },
        "id": "f8vBPSw6zvPs",
        "outputId": "dffbdb40-5d0f-4e09-9f46-7526449d81c1"
      },
      "outputs": [
        {
          "output_type": "stream",
          "name": "stdout",
          "text": [
            "23 45 6 7 89\n",
            "7\n",
            "element found at index 3\n"
          ]
        }
      ],
      "source": [
        "def linearSearch (list1,pivot):\n",
        "  for i in range(0,len(list1)):\n",
        "    if(list1[i]== pivot):\n",
        "     return i\n",
        "  return -1\n",
        "str_input= input( )\n",
        "list1 = [int(x) for x in str_input.split()]\n",
        "pivot = int(input())\n",
        "res = linearSearch(list1,pivot)\n",
        "if(res!=-1):\n",
        "    print(\"element found at index\",str(res))\n",
        "else:\n",
        "  print(\"element not found\")"
      ]
    }
  ]
}