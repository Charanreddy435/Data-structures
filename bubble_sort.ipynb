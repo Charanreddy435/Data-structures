{
  "nbformat": 4,
  "nbformat_minor": 0,
  "metadata": {
    "colab": {
      "provenance": [],
      "authorship_tag": "ABX9TyOz4AleTp5EJnI/2oeIxlwz",
      "include_colab_link": true
    },
    "kernelspec": {
      "name": "python3",
      "display_name": "Python 3"
    },
    "language_info": {
      "name": "python"
    }
  },
  "cells": [
    {
      "cell_type": "markdown",
      "metadata": {
        "id": "view-in-github",
        "colab_type": "text"
      },
      "source": [
        "<a href=\"https://colab.research.google.com/github/Charanreddy435/Data-structures/blob/main/bubble_sort.ipynb\" target=\"_parent\"><img src=\"https://colab.research.google.com/assets/colab-badge.svg\" alt=\"Open In Colab\"/></a>"
      ]
    },
    {
      "cell_type": "code",
      "execution_count": 1,
      "metadata": {
        "colab": {
          "base_uri": "https://localhost:8080/"
        },
        "id": "MoxDEOV72Slz",
        "outputId": "81df1eec-4c18-4699-c696-bb9c9fa48bc7"
      },
      "outputs": [
        {
          "output_type": "stream",
          "name": "stdout",
          "text": [
            "3 4 6 8 12 45\n",
            "sorted elements are: \n",
            "[3, 4, 6, 8, 12, 45]\n"
          ]
        }
      ],
      "source": [
        "def bubble_Sort(list1):\n",
        "  n = len(list1)\n",
        "  for i in range(n):\n",
        "      for j in range(0, n-i-1):\n",
        "        if list1[j] > list1[j+1] :\n",
        "          list1[j], list1[j+1] = list1[j+1], list1[j]\n",
        "str_input= input()\n",
        "list = [int(x) for x in str_input.split()]\n",
        "bubble_Sort(list)\n",
        "print('sorted elements are: ')\n",
        "print(list)"
      ]
    }
  ]
}