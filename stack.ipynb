{
  "nbformat": 4,
  "nbformat_minor": 0,
  "metadata": {
    "colab": {
      "provenance": [],
      "authorship_tag": "ABX9TyNdPQOklvn4x8lL08o1/t8G",
      "include_colab_link": true
    },
    "kernelspec": {
      "name": "python3",
      "display_name": "Python 3"
    },
    "language_info": {
      "name": "python"
    }
  },
  "cells": [
    {
      "cell_type": "markdown",
      "metadata": {
        "id": "view-in-github",
        "colab_type": "text"
      },
      "source": [
        "<a href=\"https://colab.research.google.com/github/Charanreddy435/Data-structures/blob/main/stack.ipynb\" target=\"_parent\"><img src=\"https://colab.research.google.com/assets/colab-badge.svg\" alt=\"Open In Colab\"/></a>"
      ]
    },
    {
      "cell_type": "code",
      "execution_count": 1,
      "metadata": {
        "colab": {
          "base_uri": "https://localhost:8080/"
        },
        "id": "ibrWbYLbzs8f",
        "outputId": "f007cbea-25e6-4524-85cb-a3d0a49bb21c"
      },
      "outputs": [
        {
          "output_type": "stream",
          "name": "stdout",
          "text": [
            "enter no of string2\n",
            "enter the vaulesc\n",
            "enter the vaulesh\n",
            "popped item: h\n",
            "stack after popping an element: ['c']\n"
          ]
        }
      ],
      "source": [
        "def create_stack():\n",
        "    stack = []\n",
        "    return stack\n",
        "def isEmpty(stack):\n",
        "        return len(stack)==0\n",
        "def push(stack, item):\n",
        "    stack.append(item)\n",
        "  \n",
        "def pop(stack):\n",
        "    if (isEmpty(stack)):\n",
        "        return \"stack is empty\"\n",
        "    return stack.pop()\n",
        "stack = create_stack()\n",
        "n=int(input(\"enter no of string\"))\n",
        "for i in range(0,n):\n",
        "  k=input(\"enter the vaules\")\n",
        "  push(stack, str(k))\n",
        "print(\"popped item: \" + pop(stack))\n",
        "print(\"stack after popping an element: \" + str(stack))"
      ]
    }
  ]
}