{
  "nbformat": 4,
  "nbformat_minor": 0,
  "metadata": {
    "colab": {
      "provenance": [],
      "authorship_tag": "ABX9TyNrNmHzJaWxN7O0vbrLEIwm",
      "include_colab_link": true
    },
    "kernelspec": {
      "name": "python3",
      "display_name": "Python 3"
    },
    "language_info": {
      "name": "python"
    }
  },
  "cells": [
    {
      "cell_type": "markdown",
      "metadata": {
        "id": "view-in-github",
        "colab_type": "text"
      },
      "source": [
        "<a href=\"https://colab.research.google.com/github/Charanreddy435/Data-structures/blob/main/queue.ipynb\" target=\"_parent\"><img src=\"https://colab.research.google.com/assets/colab-badge.svg\" alt=\"Open In Colab\"/></a>"
      ]
    },
    {
      "cell_type": "code",
      "source": [
        "class queue:\n",
        "  def __init__(self,max):\n",
        "    self.max=max\n",
        "    self.Q=[]\n",
        "    self.rear=-1\n",
        "    self.front=0\n",
        "  def enqueue(self,ele):\n",
        "    if self.rear< self.max:\n",
        "      self.rear+=1\n",
        "      self.Q.insert(self.rear,ele)\n",
        "    else:\n",
        "      print(\"queue is full\")\n",
        "  def dequeue(self):\n",
        "    if self.front <= self.rear:\n",
        "      ele = self.Q[self.front]\n",
        "      self.front+=1\n",
        "      return ele\n",
        "    else:\n",
        "      print(\"queue is empty\")\n",
        "      return -1\n",
        "  def display(self):\n",
        "    print(\"elements in the queue are\")\n",
        "    for i in range(self.front, self.rear+1):\n",
        "      print(self.Q[i], end=\" \")\n",
        "    print()\n",
        "\n",
        "q=queue(5)\n",
        "def displaymenu():\n",
        "  print(\"\\nEnter 1.enqueue 2.dequeue 3.Display 4.exit\")\n",
        "choice =1\n",
        "while choice!= 4:\n",
        "  displaymenu()\n",
        "  choice = int(input(\"enter your choice \"))\n",
        "  if choice ==1:\n",
        "    ele=int(input(\"enter element to enqueue \"))\n",
        "    q.enqueue(ele)\n",
        "  elif choice ==2:\n",
        "    ele =q.dequeue()\n",
        "    print(\"the deleted element is :  \",ele)\n",
        "  elif choice ==3:\n",
        "    q.display()\n"
      ],
      "metadata": {
        "colab": {
          "base_uri": "https://localhost:8080/"
        },
        "id": "6ZcH2iDm2PmO",
        "outputId": "b0b3761d-5373-4e5b-ae33-8f0c0295c99c"
      },
      "execution_count": 2,
      "outputs": [
        {
          "name": "stdout",
          "output_type": "stream",
          "text": [
            "\n",
            "Enter 1.enqueue 2.dequeue 3.Display 4.exit\n",
            "enter your choice 1\n",
            "enter element to enqueue 69\n",
            "\n",
            "Enter 1.enqueue 2.dequeue 3.Display 4.exit\n",
            "enter your choice 1\n",
            "enter element to enqueue 70\n",
            "\n",
            "Enter 1.enqueue 2.dequeue 3.Display 4.exit\n",
            "enter your choice 3\n",
            "elements in the queue are\n",
            "69 70 \n",
            "\n",
            "Enter 1.enqueue 2.dequeue 3.Display 4.exit\n",
            "enter your choice 4\n"
          ]
        }
      ]
    }
  ]
}